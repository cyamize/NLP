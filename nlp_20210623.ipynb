{
  "nbformat": 4,
  "nbformat_minor": 0,
  "metadata": {
    "colab": {
      "name": "nlp_20210623.ipynb",
      "provenance": [],
      "collapsed_sections": [],
      "include_colab_link": true
    },
    "kernelspec": {
      "name": "python3",
      "display_name": "Python 3"
    },
    "language_info": {
      "name": "python"
    },
    "accelerator": "GPU"
  },
  "cells": [
    {
      "cell_type": "markdown",
      "metadata": {
        "id": "view-in-github",
        "colab_type": "text"
      },
      "source": [
        "<a href=\"https://colab.research.google.com/github/cyamize/NLP/blob/main/nlp_20210623.ipynb\" target=\"_parent\"><img src=\"https://colab.research.google.com/assets/colab-badge.svg\" alt=\"Open In Colab\"/></a>"
      ]
    },
    {
      "cell_type": "code",
      "metadata": {
        "id": "-tZNnyMQhEZf"
      },
      "source": [
        "# NLTK 토크화 하기\n",
        "\n",
        "import nltk\n"
      ],
      "execution_count": null,
      "outputs": []
    },
    {
      "cell_type": "code",
      "metadata": {
        "colab": {
          "base_uri": "https://localhost:8080/"
        },
        "id": "b9Z2GIqBheem",
        "outputId": "19d6d147-87f2-4737-ec93-7b819e4051ea"
      },
      "source": [
        "nltk.download('punkt')"
      ],
      "execution_count": null,
      "outputs": [
        {
          "output_type": "stream",
          "text": [
            "[nltk_data] Downloading package punkt to /root/nltk_data...\n",
            "[nltk_data]   Package punkt is already up-to-date!\n"
          ],
          "name": "stdout"
        },
        {
          "output_type": "execute_result",
          "data": {
            "text/plain": [
              "True"
            ]
          },
          "metadata": {
            "tags": []
          },
          "execution_count": 121
        }
      ]
    },
    {
      "cell_type": "code",
      "metadata": {
        "id": "fkeFPCh3hhga"
      },
      "source": [
        "sent =\"don't worry, be happy. please wake up everybody come on\""
      ],
      "execution_count": null,
      "outputs": []
    },
    {
      "cell_type": "code",
      "metadata": {
        "colab": {
          "base_uri": "https://localhost:8080/"
        },
        "id": "eGtQG7AYhp7_",
        "outputId": "eaffb61f-cbbd-4f69-f264-4164649ec670"
      },
      "source": [
        "from nltk.tokenize import word_tokenize\n",
        "\n",
        "print(word_tokenize(sent))"
      ],
      "execution_count": null,
      "outputs": [
        {
          "output_type": "stream",
          "text": [
            "['do', \"n't\", 'worry', ',', 'be', 'happy', '.', 'please', 'wake', 'up', 'everybody', 'come', 'on']\n"
          ],
          "name": "stdout"
        }
      ]
    },
    {
      "cell_type": "code",
      "metadata": {
        "id": "uIoqdqNphyao"
      },
      "source": [
        "from nltk.tokenize import wordpunct_tokenize"
      ],
      "execution_count": null,
      "outputs": []
    },
    {
      "cell_type": "code",
      "metadata": {
        "colab": {
          "base_uri": "https://localhost:8080/"
        },
        "id": "L36kO5shh-IO",
        "outputId": "5ed2fe63-efff-480b-85fc-616de6a11f64"
      },
      "source": [
        "wordpunct_tokenize(sent)"
      ],
      "execution_count": null,
      "outputs": [
        {
          "output_type": "execute_result",
          "data": {
            "text/plain": [
              "['don',\n",
              " \"'\",\n",
              " 't',\n",
              " 'worry',\n",
              " ',',\n",
              " 'be',\n",
              " 'happy',\n",
              " '.',\n",
              " 'please',\n",
              " 'wake',\n",
              " 'up',\n",
              " 'everybody',\n",
              " 'come',\n",
              " 'on']"
            ]
          },
          "metadata": {
            "tags": []
          },
          "execution_count": 125
        }
      ]
    },
    {
      "cell_type": "code",
      "metadata": {
        "colab": {
          "base_uri": "https://localhost:8080/"
        },
        "id": "HzBepqn_iB0Y",
        "outputId": "6c55929c-147a-4a5f-f055-1a2e26c8f4a2"
      },
      "source": [
        "!pip install konlpy"
      ],
      "execution_count": null,
      "outputs": [
        {
          "output_type": "stream",
          "text": [
            "Requirement already satisfied: konlpy in /usr/local/lib/python3.7/dist-packages (0.5.2)\n",
            "Requirement already satisfied: beautifulsoup4==4.6.0 in /usr/local/lib/python3.7/dist-packages (from konlpy) (4.6.0)\n",
            "Requirement already satisfied: colorama in /usr/local/lib/python3.7/dist-packages (from konlpy) (0.4.4)\n",
            "Requirement already satisfied: numpy>=1.6 in /usr/local/lib/python3.7/dist-packages (from konlpy) (1.19.5)\n",
            "Requirement already satisfied: lxml>=4.1.0 in /usr/local/lib/python3.7/dist-packages (from konlpy) (4.2.6)\n",
            "Requirement already satisfied: tweepy>=3.7.0 in /usr/local/lib/python3.7/dist-packages (from konlpy) (3.10.0)\n",
            "Requirement already satisfied: JPype1>=0.7.0 in /usr/local/lib/python3.7/dist-packages (from konlpy) (1.3.0)\n",
            "Requirement already satisfied: requests-oauthlib>=0.7.0 in /usr/local/lib/python3.7/dist-packages (from tweepy>=3.7.0->konlpy) (1.3.0)\n",
            "Requirement already satisfied: six>=1.10.0 in /usr/local/lib/python3.7/dist-packages (from tweepy>=3.7.0->konlpy) (1.15.0)\n",
            "Requirement already satisfied: requests[socks]>=2.11.1 in /usr/local/lib/python3.7/dist-packages (from tweepy>=3.7.0->konlpy) (2.23.0)\n",
            "Requirement already satisfied: typing-extensions; python_version < \"3.8\" in /usr/local/lib/python3.7/dist-packages (from JPype1>=0.7.0->konlpy) (3.7.4.3)\n",
            "Requirement already satisfied: oauthlib>=3.0.0 in /usr/local/lib/python3.7/dist-packages (from requests-oauthlib>=0.7.0->tweepy>=3.7.0->konlpy) (3.1.1)\n",
            "Requirement already satisfied: idna<3,>=2.5 in /usr/local/lib/python3.7/dist-packages (from requests[socks]>=2.11.1->tweepy>=3.7.0->konlpy) (2.10)\n",
            "Requirement already satisfied: certifi>=2017.4.17 in /usr/local/lib/python3.7/dist-packages (from requests[socks]>=2.11.1->tweepy>=3.7.0->konlpy) (2021.5.30)\n",
            "Requirement already satisfied: chardet<4,>=3.0.2 in /usr/local/lib/python3.7/dist-packages (from requests[socks]>=2.11.1->tweepy>=3.7.0->konlpy) (3.0.4)\n",
            "Requirement already satisfied: urllib3!=1.25.0,!=1.25.1,<1.26,>=1.21.1 in /usr/local/lib/python3.7/dist-packages (from requests[socks]>=2.11.1->tweepy>=3.7.0->konlpy) (1.24.3)\n",
            "Requirement already satisfied: PySocks!=1.5.7,>=1.5.6; extra == \"socks\" in /usr/local/lib/python3.7/dist-packages (from requests[socks]>=2.11.1->tweepy>=3.7.0->konlpy) (1.7.1)\n"
          ],
          "name": "stdout"
        }
      ]
    },
    {
      "cell_type": "code",
      "metadata": {
        "id": "_sVznkVeibV4"
      },
      "source": [
        "from konlpy.tag import *\n",
        "\n",
        "hannanum = Hannanum()\n",
        "kkma = Kkma()\n",
        "komoran = Komoran()\n",
        "okt = Okt()\n"
      ],
      "execution_count": null,
      "outputs": []
    },
    {
      "cell_type": "code",
      "metadata": {
        "colab": {
          "base_uri": "https://localhost:8080/"
        },
        "id": "8EDUA97Rinjm",
        "outputId": "31f96edc-414c-49c8-c9e7-35b7da0007a8"
      },
      "source": [
        "# 형태소분석\n",
        "okt.nouns(\"잠이라는 것은 살기위해 필수적이다, 쉬는시간, 취업, 독서\")"
      ],
      "execution_count": null,
      "outputs": [
        {
          "output_type": "execute_result",
          "data": {
            "text/plain": [
              "['잠', '것', '살기', '위해', '필수', '쉬는시간', '취업', '독서']"
            ]
          },
          "metadata": {
            "tags": []
          },
          "execution_count": 128
        }
      ]
    },
    {
      "cell_type": "code",
      "metadata": {
        "id": "pz-FPUq8jZNz"
      },
      "source": [
        "text = \"잠이라는 것은 살기위해 필수적이다, 쉬는시간, 취업, 독서\""
      ],
      "execution_count": null,
      "outputs": []
    },
    {
      "cell_type": "code",
      "metadata": {
        "colab": {
          "base_uri": "https://localhost:8080/"
        },
        "id": "CnvPgoPeje7i",
        "outputId": "950c899a-6e97-4baa-c07f-93357ea498c6"
      },
      "source": [
        "okt.nouns(text)"
      ],
      "execution_count": null,
      "outputs": [
        {
          "output_type": "execute_result",
          "data": {
            "text/plain": [
              "['잠', '것', '살기', '위해', '필수', '쉬는시간', '취업', '독서']"
            ]
          },
          "metadata": {
            "tags": []
          },
          "execution_count": 130
        }
      ]
    },
    {
      "cell_type": "code",
      "metadata": {
        "colab": {
          "base_uri": "https://localhost:8080/"
        },
        "id": "_fDqJlxHjgyq",
        "outputId": "c154258c-a4ce-4c31-c979-f6284fd62158"
      },
      "source": [
        "okt.morphs(text) #형태소분석"
      ],
      "execution_count": null,
      "outputs": [
        {
          "output_type": "execute_result",
          "data": {
            "text/plain": [
              "['잠',\n",
              " '이라는',\n",
              " '것',\n",
              " '은',\n",
              " '살기',\n",
              " '위해',\n",
              " '필수',\n",
              " '적',\n",
              " '이다',\n",
              " ',',\n",
              " '쉬는시간',\n",
              " ',',\n",
              " '취업',\n",
              " ',',\n",
              " '독서']"
            ]
          },
          "metadata": {
            "tags": []
          },
          "execution_count": 131
        }
      ]
    },
    {
      "cell_type": "code",
      "metadata": {
        "colab": {
          "base_uri": "https://localhost:8080/"
        },
        "id": "PDy9tFw-jm8Y",
        "outputId": "409ed29f-3daf-4e2c-e5bf-f09cb4baef32"
      },
      "source": [
        "okt.pos(text)"
      ],
      "execution_count": null,
      "outputs": [
        {
          "output_type": "execute_result",
          "data": {
            "text/plain": [
              "[('잠', 'Noun'),\n",
              " ('이라는', 'Josa'),\n",
              " ('것', 'Noun'),\n",
              " ('은', 'Josa'),\n",
              " ('살기', 'Noun'),\n",
              " ('위해', 'Noun'),\n",
              " ('필수', 'Noun'),\n",
              " ('적', 'Suffix'),\n",
              " ('이다', 'Josa'),\n",
              " (',', 'Punctuation'),\n",
              " ('쉬는시간', 'Noun'),\n",
              " (',', 'Punctuation'),\n",
              " ('취업', 'Noun'),\n",
              " (',', 'Punctuation'),\n",
              " ('독서', 'Noun')]"
            ]
          },
          "metadata": {
            "tags": []
          },
          "execution_count": 132
        }
      ]
    },
    {
      "cell_type": "code",
      "metadata": {
        "colab": {
          "base_uri": "https://localhost:8080/"
        },
        "id": "Wl425PoRj2cV",
        "outputId": "ccba8943-5f0c-4c50-f3af-1402824eab94"
      },
      "source": [
        "kkma.nouns(text)"
      ],
      "execution_count": null,
      "outputs": [
        {
          "output_type": "execute_result",
          "data": {
            "text/plain": [
              "['잠', '필수적', '시간', '취업', '독서']"
            ]
          },
          "metadata": {
            "tags": []
          },
          "execution_count": 133
        }
      ]
    },
    {
      "cell_type": "code",
      "metadata": {
        "colab": {
          "base_uri": "https://localhost:8080/"
        },
        "id": "6gn9ihqlj8o-",
        "outputId": "3e7a04a1-7694-4a8d-a839-9e26e1ead706"
      },
      "source": [
        "kkma.morphs(text)"
      ],
      "execution_count": null,
      "outputs": [
        {
          "output_type": "execute_result",
          "data": {
            "text/plain": [
              "['잠',\n",
              " '이',\n",
              " '라는',\n",
              " '것',\n",
              " '은',\n",
              " '살',\n",
              " '기',\n",
              " '위하',\n",
              " '어',\n",
              " '필수적',\n",
              " '이',\n",
              " '다',\n",
              " ',',\n",
              " '쉬',\n",
              " '는',\n",
              " '시간',\n",
              " ',',\n",
              " '취업',\n",
              " ',',\n",
              " '독서']"
            ]
          },
          "metadata": {
            "tags": []
          },
          "execution_count": 134
        }
      ]
    },
    {
      "cell_type": "code",
      "metadata": {
        "colab": {
          "base_uri": "https://localhost:8080/"
        },
        "id": "otf2r04skEkC",
        "outputId": "a25a6b61-78f4-428b-8dd9-267167b62b81"
      },
      "source": [
        "kkma.pos(text)"
      ],
      "execution_count": null,
      "outputs": [
        {
          "output_type": "execute_result",
          "data": {
            "text/plain": [
              "[('잠', 'NNG'),\n",
              " ('이', 'VCP'),\n",
              " ('라는', 'ETD'),\n",
              " ('것', 'NNB'),\n",
              " ('은', 'JX'),\n",
              " ('살', 'VV'),\n",
              " ('기', 'ETN'),\n",
              " ('위하', 'VV'),\n",
              " ('어', 'ECS'),\n",
              " ('필수적', 'NNG'),\n",
              " ('이', 'VCP'),\n",
              " ('다', 'ECS'),\n",
              " (',', 'SP'),\n",
              " ('쉬', 'VV'),\n",
              " ('는', 'ETD'),\n",
              " ('시간', 'NNG'),\n",
              " (',', 'SP'),\n",
              " ('취업', 'NNG'),\n",
              " (',', 'SP'),\n",
              " ('독서', 'NNG')]"
            ]
          },
          "metadata": {
            "tags": []
          },
          "execution_count": 135
        }
      ]
    },
    {
      "cell_type": "code",
      "metadata": {
        "id": "_75a0wqwkHPX"
      },
      "source": [
        "# 문장 토큰화\n",
        "\n",
        "text1 = \"Do the boogie like Side step right left to my beat heartbeat High like the moon rock with me baby Know that I got that heat\"\n"
      ],
      "execution_count": null,
      "outputs": []
    },
    {
      "cell_type": "code",
      "metadata": {
        "colab": {
          "base_uri": "https://localhost:8080/"
        },
        "id": "4_EpiObpk0Nq",
        "outputId": "3283c188-6fb0-42a5-ae46-4bd8b4fe0c83"
      },
      "source": [
        "from nltk.tokenize import sent_tokenize\n",
        "sent_tokenize(text1)"
      ],
      "execution_count": null,
      "outputs": [
        {
          "output_type": "execute_result",
          "data": {
            "text/plain": [
              "['Do the boogie like Side step right left to my beat heartbeat High like the moon rock with me baby Know that I got that heat']"
            ]
          },
          "metadata": {
            "tags": []
          },
          "execution_count": 137
        }
      ]
    },
    {
      "cell_type": "code",
      "metadata": {
        "colab": {
          "base_uri": "https://localhost:8080/"
        },
        "id": "iWp2PoEYllla",
        "outputId": "6545b84a-aed5-4800-86fc-638d7739c729"
      },
      "source": [
        "!pip install kss"
      ],
      "execution_count": null,
      "outputs": [
        {
          "output_type": "stream",
          "text": [
            "Requirement already satisfied: kss in /usr/local/lib/python3.7/dist-packages (2.5.1)\n"
          ],
          "name": "stdout"
        }
      ]
    },
    {
      "cell_type": "code",
      "metadata": {
        "id": "JbZbfW3Jk5UB"
      },
      "source": [
        "text2 =  \"사랑을 맺었던가 님들의 치맛 소리\""
      ],
      "execution_count": null,
      "outputs": []
    },
    {
      "cell_type": "code",
      "metadata": {
        "colab": {
          "base_uri": "https://localhost:8080/"
        },
        "id": "L4avvljolifo",
        "outputId": "8ad7c5ad-e421-4c81-e61a-eccd5116fb06"
      },
      "source": [
        "import kss\n",
        "kss.split_sentences(text2)"
      ],
      "execution_count": null,
      "outputs": [
        {
          "output_type": "execute_result",
          "data": {
            "text/plain": [
              "['사랑을 맺었던가 님들의 치맛 소리']"
            ]
          },
          "metadata": {
            "tags": []
          },
          "execution_count": 140
        }
      ]
    },
    {
      "cell_type": "code",
      "metadata": {
        "id": "WJ1CwTXGlxnx"
      },
      "source": [
        "# 택스트 정규화\n",
        "\n",
        "# stemming\n",
        "\n",
        "from nltk.stem import PorterStemmer\n",
        "\n",
        "ps = PorterStemmer()"
      ],
      "execution_count": null,
      "outputs": []
    },
    {
      "cell_type": "code",
      "metadata": {
        "colab": {
          "base_uri": "https://localhost:8080/"
        },
        "id": "8eNUgNAcmCy0",
        "outputId": "bfe2276c-f362-4a9f-a8ba-67d23a206d66"
      },
      "source": [
        "words = word_tokenize(text1)\n",
        "words"
      ],
      "execution_count": null,
      "outputs": [
        {
          "output_type": "execute_result",
          "data": {
            "text/plain": [
              "['Do',\n",
              " 'the',\n",
              " 'boogie',\n",
              " 'like',\n",
              " 'Side',\n",
              " 'step',\n",
              " 'right',\n",
              " 'left',\n",
              " 'to',\n",
              " 'my',\n",
              " 'beat',\n",
              " 'heartbeat',\n",
              " 'High',\n",
              " 'like',\n",
              " 'the',\n",
              " 'moon',\n",
              " 'rock',\n",
              " 'with',\n",
              " 'me',\n",
              " 'baby',\n",
              " 'Know',\n",
              " 'that',\n",
              " 'I',\n",
              " 'got',\n",
              " 'that',\n",
              " 'heat']"
            ]
          },
          "metadata": {
            "tags": []
          },
          "execution_count": 142
        }
      ]
    },
    {
      "cell_type": "code",
      "metadata": {
        "colab": {
          "base_uri": "https://localhost:8080/"
        },
        "id": "LQK06hYKmM2U",
        "outputId": "08397130-9621-466b-ab60-a8055d0e2a25"
      },
      "source": [
        "[ps.stem(w) for w in words] # list()화, []"
      ],
      "execution_count": null,
      "outputs": [
        {
          "output_type": "execute_result",
          "data": {
            "text/plain": [
              "['Do',\n",
              " 'the',\n",
              " 'boogi',\n",
              " 'like',\n",
              " 'side',\n",
              " 'step',\n",
              " 'right',\n",
              " 'left',\n",
              " 'to',\n",
              " 'my',\n",
              " 'beat',\n",
              " 'heartbeat',\n",
              " 'high',\n",
              " 'like',\n",
              " 'the',\n",
              " 'moon',\n",
              " 'rock',\n",
              " 'with',\n",
              " 'me',\n",
              " 'babi',\n",
              " 'know',\n",
              " 'that',\n",
              " 'I',\n",
              " 'got',\n",
              " 'that',\n",
              " 'heat']"
            ]
          },
          "metadata": {
            "tags": []
          },
          "execution_count": 143
        }
      ]
    },
    {
      "cell_type": "code",
      "metadata": {
        "colab": {
          "base_uri": "https://localhost:8080/"
        },
        "id": "sXgc7KebmeL1",
        "outputId": "f9767454-dcca-4a94-bb6f-d14b29a640e1"
      },
      "source": [
        "# lemmatization\n",
        "\n",
        "nltk.download('wordnet')"
      ],
      "execution_count": null,
      "outputs": [
        {
          "output_type": "stream",
          "text": [
            "[nltk_data] Downloading package wordnet to /root/nltk_data...\n",
            "[nltk_data]   Package wordnet is already up-to-date!\n"
          ],
          "name": "stdout"
        },
        {
          "output_type": "execute_result",
          "data": {
            "text/plain": [
              "True"
            ]
          },
          "metadata": {
            "tags": []
          },
          "execution_count": 144
        }
      ]
    },
    {
      "cell_type": "code",
      "metadata": {
        "id": "Ff3sXa-Nmzhh"
      },
      "source": [
        "from nltk.stem import WordNetLemmatizer\n",
        "wl = WordNetLemmatizer()"
      ],
      "execution_count": null,
      "outputs": []
    },
    {
      "cell_type": "code",
      "metadata": {
        "id": "z20fU-IOm6YX"
      },
      "source": [
        "words = ['policy', 'doing', 'organization', 'have']"
      ],
      "execution_count": null,
      "outputs": []
    },
    {
      "cell_type": "code",
      "metadata": {
        "colab": {
          "base_uri": "https://localhost:8080/"
        },
        "id": "Pr_iE8M7nJQi",
        "outputId": "eb649c27-7e3f-4db4-beb7-1020b569aa9b"
      },
      "source": [
        "[wl.lemmatize(w) for w in words]"
      ],
      "execution_count": null,
      "outputs": [
        {
          "output_type": "execute_result",
          "data": {
            "text/plain": [
              "['policy', 'doing', 'organization', 'have']"
            ]
          },
          "metadata": {
            "tags": []
          },
          "execution_count": 147
        }
      ]
    },
    {
      "cell_type": "code",
      "metadata": {
        "colab": {
          "base_uri": "https://localhost:8080/"
        },
        "id": "bK4ZApbInSwE",
        "outputId": "5a8577e3-1826-4e8b-820f-09dbbf833d67"
      },
      "source": [
        "okt.morphs(text2)"
      ],
      "execution_count": null,
      "outputs": [
        {
          "output_type": "execute_result",
          "data": {
            "text/plain": [
              "['사랑', '을', '맺었던가', '님들', '의', '치맛', '소리']"
            ]
          },
          "metadata": {
            "tags": []
          },
          "execution_count": 148
        }
      ]
    },
    {
      "cell_type": "code",
      "metadata": {
        "colab": {
          "base_uri": "https://localhost:8080/"
        },
        "id": "Rj716Ub-nefW",
        "outputId": "d11375e5-3339-42a7-ac50-329aebbfcbe7"
      },
      "source": [
        "okt.morphs(text2, stem=True)"
      ],
      "execution_count": null,
      "outputs": [
        {
          "output_type": "execute_result",
          "data": {
            "text/plain": [
              "['사랑', '을', '맺다', '님들', '의', '치맛', '소리']"
            ]
          },
          "metadata": {
            "tags": []
          },
          "execution_count": 149
        }
      ]
    },
    {
      "cell_type": "code",
      "metadata": {
        "colab": {
          "base_uri": "https://localhost:8080/"
        },
        "id": "NfAq3DxCnnfk",
        "outputId": "37b46fd4-031e-4aeb-d357-67a62a54caeb"
      },
      "source": [
        "okt.pos(text2)"
      ],
      "execution_count": null,
      "outputs": [
        {
          "output_type": "execute_result",
          "data": {
            "text/plain": [
              "[('사랑', 'Noun'),\n",
              " ('을', 'Josa'),\n",
              " ('맺었던가', 'Verb'),\n",
              " ('님들', 'Noun'),\n",
              " ('의', 'Josa'),\n",
              " ('치맛', 'Noun'),\n",
              " ('소리', 'Noun')]"
            ]
          },
          "metadata": {
            "tags": []
          },
          "execution_count": 150
        }
      ]
    },
    {
      "cell_type": "code",
      "metadata": {
        "id": "6g7CE_8mn_GG"
      },
      "source": [
        "# stopwords(불용어)"
      ],
      "execution_count": null,
      "outputs": []
    },
    {
      "cell_type": "code",
      "metadata": {
        "colab": {
          "base_uri": "https://localhost:8080/"
        },
        "id": "mRwCVsbYoHKQ",
        "outputId": "7639d101-a33e-47e2-9ade-30ca02f70e16"
      },
      "source": [
        "nltk.download('stopwords')"
      ],
      "execution_count": null,
      "outputs": [
        {
          "output_type": "stream",
          "text": [
            "[nltk_data] Downloading package stopwords to /root/nltk_data...\n",
            "[nltk_data]   Package stopwords is already up-to-date!\n"
          ],
          "name": "stdout"
        },
        {
          "output_type": "execute_result",
          "data": {
            "text/plain": [
              "True"
            ]
          },
          "metadata": {
            "tags": []
          },
          "execution_count": 152
        }
      ]
    },
    {
      "cell_type": "code",
      "metadata": {
        "colab": {
          "base_uri": "https://localhost:8080/"
        },
        "id": "j4Rx4IYMoK-S",
        "outputId": "cdcc824a-a9c6-4ac8-ee30-aec2a77990d9"
      },
      "source": [
        "from nltk.corpus import stopwords\n",
        "print(stopwords.words('english'))"
      ],
      "execution_count": null,
      "outputs": [
        {
          "output_type": "stream",
          "text": [
            "['i', 'me', 'my', 'myself', 'we', 'our', 'ours', 'ourselves', 'you', \"you're\", \"you've\", \"you'll\", \"you'd\", 'your', 'yours', 'yourself', 'yourselves', 'he', 'him', 'his', 'himself', 'she', \"she's\", 'her', 'hers', 'herself', 'it', \"it's\", 'its', 'itself', 'they', 'them', 'their', 'theirs', 'themselves', 'what', 'which', 'who', 'whom', 'this', 'that', \"that'll\", 'these', 'those', 'am', 'is', 'are', 'was', 'were', 'be', 'been', 'being', 'have', 'has', 'had', 'having', 'do', 'does', 'did', 'doing', 'a', 'an', 'the', 'and', 'but', 'if', 'or', 'because', 'as', 'until', 'while', 'of', 'at', 'by', 'for', 'with', 'about', 'against', 'between', 'into', 'through', 'during', 'before', 'after', 'above', 'below', 'to', 'from', 'up', 'down', 'in', 'out', 'on', 'off', 'over', 'under', 'again', 'further', 'then', 'once', 'here', 'there', 'when', 'where', 'why', 'how', 'all', 'any', 'both', 'each', 'few', 'more', 'most', 'other', 'some', 'such', 'no', 'nor', 'not', 'only', 'own', 'same', 'so', 'than', 'too', 'very', 's', 't', 'can', 'will', 'just', 'don', \"don't\", 'should', \"should've\", 'now', 'd', 'll', 'm', 'o', 're', 've', 'y', 'ain', 'aren', \"aren't\", 'couldn', \"couldn't\", 'didn', \"didn't\", 'doesn', \"doesn't\", 'hadn', \"hadn't\", 'hasn', \"hasn't\", 'haven', \"haven't\", 'isn', \"isn't\", 'ma', 'mightn', \"mightn't\", 'mustn', \"mustn't\", 'needn', \"needn't\", 'shan', \"shan't\", 'shouldn', \"shouldn't\", 'wasn', \"wasn't\", 'weren', \"weren't\", 'won', \"won't\", 'wouldn', \"wouldn't\"]\n"
          ],
          "name": "stdout"
        }
      ]
    },
    {
      "cell_type": "code",
      "metadata": {
        "id": "fwAKEI3VoUs8"
      },
      "source": [
        "example = \"i am very import person. it's True\"\n",
        "stop_words = set(stopwords.words('english'))"
      ],
      "execution_count": null,
      "outputs": []
    },
    {
      "cell_type": "code",
      "metadata": {
        "colab": {
          "base_uri": "https://localhost:8080/"
        },
        "id": "lAaz30P0o1y7",
        "outputId": "8d077d6b-a74a-48e0-d9ae-18e580fc1e2c"
      },
      "source": [
        "word_tokens =word_tokenize(example)\n",
        "\n",
        "result = [ ]\n",
        "\n",
        "for w in word_tokens:\n",
        "  if w not in stop_words:\n",
        "    result.append(w)\n",
        "\n",
        "print('원문', word_tokens)\n",
        "print('불용어 제거문', result)"
      ],
      "execution_count": null,
      "outputs": [
        {
          "output_type": "stream",
          "text": [
            "원문 ['i', 'am', 'very', 'import', 'person', '.', 'it', \"'s\", 'True']\n",
            "불용어 제거문 ['import', 'person', '.', \"'s\", 'True']\n"
          ],
          "name": "stdout"
        }
      ]
    },
    {
      "cell_type": "code",
      "metadata": {
        "id": "vjrYg4HYo8Ch"
      },
      "source": [
        "example2 = \"나는 매우 중요한 사람이다!\"\n",
        "stop_words2 = \"그럼, 옳은말이지\""
      ],
      "execution_count": null,
      "outputs": []
    },
    {
      "cell_type": "code",
      "metadata": {
        "id": "XD0qgvm0zDXQ"
      },
      "source": [
        "stop_words2 = stop_words2.split(' ')\n"
      ],
      "execution_count": null,
      "outputs": []
    },
    {
      "cell_type": "code",
      "metadata": {
        "colab": {
          "base_uri": "https://localhost:8080/"
        },
        "id": "vr0jpD3ezQMG",
        "outputId": "38d41d82-579e-4a4e-cb85-b78ad82c3a32"
      },
      "source": [
        "word_tokenize(example2)"
      ],
      "execution_count": null,
      "outputs": [
        {
          "output_type": "execute_result",
          "data": {
            "text/plain": [
              "['나는', '매우', '중요한', '사람이다', '!']"
            ]
          },
          "metadata": {
            "tags": []
          },
          "execution_count": 158
        }
      ]
    },
    {
      "cell_type": "code",
      "metadata": {
        "id": "vYz3UX450plm"
      },
      "source": [
        ""
      ],
      "execution_count": null,
      "outputs": []
    },
    {
      "cell_type": "code",
      "metadata": {
        "id": "QmG4PCKF1KOQ"
      },
      "source": [
        "# 정수 인코딩\n",
        "\n",
        "text = \"A barber is a person. a barber is good person. a barber is huge person. \\\n",
        "        he Knew A Secret! The Secret He Kept is huge secret. Huge secret. His barber kept his word. a barber kept his word. \\\n",
        "        His barber kept his secret. But keeping and keeping such a huge secret to himself was driving the barber crazy. \\\n",
        "        the barber went up a huge mountain.\"\n",
        "\n"
      ],
      "execution_count": null,
      "outputs": []
    },
    {
      "cell_type": "code",
      "metadata": {
        "id": "FIPXN8vk1UiK"
      },
      "source": [
        "# sentence tokenization\n",
        "\n",
        "text = sent_tokenize(text)"
      ],
      "execution_count": null,
      "outputs": []
    },
    {
      "cell_type": "code",
      "metadata": {
        "colab": {
          "base_uri": "https://localhost:8080/"
        },
        "id": "uoWMmadI1kmX",
        "outputId": "ab51db79-3d09-4d9f-ee2f-20cc79d16272"
      },
      "source": [
        "print(text)"
      ],
      "execution_count": null,
      "outputs": [
        {
          "output_type": "stream",
          "text": [
            "['A barber is a person.', 'a barber is good person.', 'a barber is huge person.', 'he Knew A Secret!', 'The Secret He Kept is huge secret.', 'Huge secret.', 'His barber kept his word.', 'a barber kept his word.', 'His barber kept his secret.', 'But keeping and keeping such a huge secret to himself was driving the barber crazy.', 'the barber went up a huge mountain.']\n"
          ],
          "name": "stdout"
        }
      ]
    },
    {
      "cell_type": "code",
      "metadata": {
        "colab": {
          "base_uri": "https://localhost:8080/"
        },
        "id": "wlzFH4aX1stP",
        "outputId": "8d90a388-6d16-487b-943c-fbc562951930"
      },
      "source": [
        "# word tokenization\n",
        "sentences = [ ]\n",
        "stop_words = set(stopwords.words('english')) \n",
        "\n",
        "for i in text: \n",
        "  sentence = word_tokenize(i) \n",
        "  result = [ ]\n",
        "  for word in sentence:\n",
        "    word = word.lower()\n",
        "    if word not in stop_words:\n",
        "      if len(word) > 2:\n",
        "        result.append(word)\n",
        "  sentences.append(result)\n",
        "print(sentences)"
      ],
      "execution_count": null,
      "outputs": [
        {
          "output_type": "stream",
          "text": [
            "[['barber', 'person'], ['barber', 'good', 'person'], ['barber', 'huge', 'person'], ['knew', 'secret'], ['secret', 'kept', 'huge', 'secret'], ['huge', 'secret'], ['barber', 'kept', 'word'], ['barber', 'kept', 'word'], ['barber', 'kept', 'secret'], ['keeping', 'keeping', 'huge', 'secret', 'driving', 'barber', 'crazy'], ['barber', 'went', 'huge', 'mountain']]\n"
          ],
          "name": "stdout"
        }
      ]
    },
    {
      "cell_type": "code",
      "metadata": {
        "colab": {
          "base_uri": "https://localhost:8080/"
        },
        "id": "60NroJxM9siY",
        "outputId": "276c2722-ebb6-4c36-e4fd-3660b336b6f7"
      },
      "source": [
        "sum(sentences, [ ])"
      ],
      "execution_count": null,
      "outputs": [
        {
          "output_type": "execute_result",
          "data": {
            "text/plain": [
              "['barber',\n",
              " 'person',\n",
              " 'barber',\n",
              " 'good',\n",
              " 'person',\n",
              " 'barber',\n",
              " 'huge',\n",
              " 'person',\n",
              " 'knew',\n",
              " 'secret',\n",
              " 'secret',\n",
              " 'kept',\n",
              " 'huge',\n",
              " 'secret',\n",
              " 'huge',\n",
              " 'secret',\n",
              " 'barber',\n",
              " 'kept',\n",
              " 'word',\n",
              " 'barber',\n",
              " 'kept',\n",
              " 'word',\n",
              " 'barber',\n",
              " 'kept',\n",
              " 'secret',\n",
              " 'keeping',\n",
              " 'keeping',\n",
              " 'huge',\n",
              " 'secret',\n",
              " 'driving',\n",
              " 'barber',\n",
              " 'crazy',\n",
              " 'barber',\n",
              " 'went',\n",
              " 'huge',\n",
              " 'mountain']"
            ]
          },
          "metadata": {
            "tags": []
          },
          "execution_count": 187
        }
      ]
    },
    {
      "cell_type": "code",
      "metadata": {
        "colab": {
          "base_uri": "https://localhost:8080/"
        },
        "id": "zd5QkK7z_DoS",
        "outputId": "453d8a38-fa0d-44af-f5bf-a62e701938e8"
      },
      "source": [
        "words = sum(sentences, [ ])\n",
        "print(words)"
      ],
      "execution_count": null,
      "outputs": [
        {
          "output_type": "stream",
          "text": [
            "['barber', 'person', 'barber', 'good', 'person', 'barber', 'huge', 'person', 'knew', 'secret', 'secret', 'kept', 'huge', 'secret', 'huge', 'secret', 'barber', 'kept', 'word', 'barber', 'kept', 'word', 'barber', 'kept', 'secret', 'keeping', 'keeping', 'huge', 'secret', 'driving', 'barber', 'crazy', 'barber', 'went', 'huge', 'mountain']\n"
          ],
          "name": "stdout"
        }
      ]
    },
    {
      "cell_type": "code",
      "metadata": {
        "colab": {
          "base_uri": "https://localhost:8080/"
        },
        "id": "zPXz5NVD4faB",
        "outputId": "3b12938e-1202-4bc1-8617-707732ec55d6"
      },
      "source": [
        "Counter(words)"
      ],
      "execution_count": null,
      "outputs": [
        {
          "output_type": "execute_result",
          "data": {
            "text/plain": [
              "Counter({'barber': 8,\n",
              "         'crazy': 1,\n",
              "         'driving': 1,\n",
              "         'good': 1,\n",
              "         'huge': 5,\n",
              "         'keeping': 2,\n",
              "         'kept': 4,\n",
              "         'knew': 1,\n",
              "         'mountain': 1,\n",
              "         'person': 3,\n",
              "         'secret': 6,\n",
              "         'went': 1,\n",
              "         'word': 2})"
            ]
          },
          "metadata": {
            "tags": []
          },
          "execution_count": 189
        }
      ]
    },
    {
      "cell_type": "code",
      "metadata": {
        "colab": {
          "base_uri": "https://localhost:8080/"
        },
        "id": "I9WVlxtz41XA",
        "outputId": "b34e0644-9b38-41d5-e49f-cd54fb0511d5"
      },
      "source": [
        "vocab = Counter(words)\n",
        "print(vocab)"
      ],
      "execution_count": null,
      "outputs": [
        {
          "output_type": "stream",
          "text": [
            "Counter({'barber': 8, 'secret': 6, 'huge': 5, 'kept': 4, 'person': 3, 'word': 2, 'keeping': 2, 'good': 1, 'knew': 1, 'driving': 1, 'crazy': 1, 'went': 1, 'mountain': 1})\n"
          ],
          "name": "stdout"
        }
      ]
    },
    {
      "cell_type": "code",
      "metadata": {
        "colab": {
          "base_uri": "https://localhost:8080/"
        },
        "id": "Yo1G7IVR_cTZ",
        "outputId": "cfa9734b-35e0-44de-fe9c-47fb65d6dd7b"
      },
      "source": [
        "print(vocab['secret'])"
      ],
      "execution_count": null,
      "outputs": [
        {
          "output_type": "stream",
          "text": [
            "6\n"
          ],
          "name": "stdout"
        }
      ]
    },
    {
      "cell_type": "code",
      "metadata": {
        "colab": {
          "base_uri": "https://localhost:8080/"
        },
        "id": "5FV4wN7g_gRJ",
        "outputId": "32ec7230-0121-443b-dd07-48ce00f07545"
      },
      "source": [
        "# 정수 인덱스(integer encoding)\n",
        "\n",
        "# 빈도수가 높을 수록 낮은 수의 정수부여\n",
        "\n",
        "sorted(vocab.items(), key = lambda x: x[1]) #x[1]: value"
      ],
      "execution_count": null,
      "outputs": [
        {
          "output_type": "execute_result",
          "data": {
            "text/plain": [
              "[('good', 1),\n",
              " ('knew', 1),\n",
              " ('driving', 1),\n",
              " ('crazy', 1),\n",
              " ('went', 1),\n",
              " ('mountain', 1),\n",
              " ('word', 2),\n",
              " ('keeping', 2),\n",
              " ('person', 3),\n",
              " ('kept', 4),\n",
              " ('huge', 5),\n",
              " ('secret', 6),\n",
              " ('barber', 8)]"
            ]
          },
          "metadata": {
            "tags": []
          },
          "execution_count": 192
        }
      ]
    },
    {
      "cell_type": "code",
      "metadata": {
        "colab": {
          "base_uri": "https://localhost:8080/"
        },
        "id": "aYX258p8AAdd",
        "outputId": "5b5a1757-f138-4174-c0eb-5ac5fee68153"
      },
      "source": [
        "sorted(vocab.items(), key = lambda x: x[1], reverse= True)"
      ],
      "execution_count": null,
      "outputs": [
        {
          "output_type": "execute_result",
          "data": {
            "text/plain": [
              "[('barber', 8),\n",
              " ('secret', 6),\n",
              " ('huge', 5),\n",
              " ('kept', 4),\n",
              " ('person', 3),\n",
              " ('word', 2),\n",
              " ('keeping', 2),\n",
              " ('good', 1),\n",
              " ('knew', 1),\n",
              " ('driving', 1),\n",
              " ('crazy', 1),\n",
              " ('went', 1),\n",
              " ('mountain', 1)]"
            ]
          },
          "metadata": {
            "tags": []
          },
          "execution_count": 194
        }
      ]
    },
    {
      "cell_type": "code",
      "metadata": {
        "id": "7WlabmXoAvqe"
      },
      "source": [
        "vocab_sorted = sorted(vocab.items(), key = lambda x: x[1], reverse= True)"
      ],
      "execution_count": null,
      "outputs": []
    },
    {
      "cell_type": "code",
      "metadata": {
        "colab": {
          "base_uri": "https://localhost:8080/"
        },
        "id": "dRZiGrgJA0yo",
        "outputId": "efd18462-54fd-441a-ccd4-72bee59bdc0e"
      },
      "source": [
        "word2idx = { }\n",
        "\n",
        "i = 0\n",
        "\n",
        "for (word, frequency) in vocab_sorted:\n",
        "  if frequency > 1:\n",
        "    i = i + 1\n",
        "    word2idx[word] = i\n",
        "\n",
        "print(word2idx)"
      ],
      "execution_count": null,
      "outputs": [
        {
          "output_type": "stream",
          "text": [
            "{'barber': 1, 'secret': 2, 'huge': 3, 'kept': 4, 'person': 5, 'word': 6, 'keeping': 7}\n"
          ],
          "name": "stdout"
        }
      ]
    },
    {
      "cell_type": "code",
      "metadata": {
        "colab": {
          "base_uri": "https://localhost:8080/"
        },
        "id": "skgs4eVhBR0C",
        "outputId": "a0bebeac-81ee-48c9-f52f-17710d96a63e"
      },
      "source": [
        "vocab_size = 5\n",
        "word_frequency = [w for w, c in word2idx.items() if c >= vocab_size + 1]\n",
        "\n",
        "for w in word_frequency:\n",
        "  del word2idx[w]\n",
        "\n",
        "print(word2idx)"
      ],
      "execution_count": null,
      "outputs": [
        {
          "output_type": "stream",
          "text": [
            "{'barber': 1, 'secret': 2, 'huge': 3, 'kept': 4, 'person': 5}\n"
          ],
          "name": "stdout"
        }
      ]
    },
    {
      "cell_type": "code",
      "metadata": {
        "colab": {
          "base_uri": "https://localhost:8080/"
        },
        "id": "XucJCCfsDDsJ",
        "outputId": "6f885424-b50c-4934-d379-61f54af70be7"
      },
      "source": [
        "word2idx['oov'] = len(word2idx)+1\n",
        "print(word2idx)"
      ],
      "execution_count": null,
      "outputs": [
        {
          "output_type": "stream",
          "text": [
            "{'barber': 1, 'secret': 2, 'huge': 3, 'kept': 4, 'person': 5, 'oov': 6}\n"
          ],
          "name": "stdout"
        }
      ]
    },
    {
      "cell_type": "code",
      "metadata": {
        "colab": {
          "base_uri": "https://localhost:8080/"
        },
        "id": "7AeUOERKD569",
        "outputId": "fc33de12-c3f6-4af9-d3ca-743f25c9575c"
      },
      "source": [
        "sentences"
      ],
      "execution_count": null,
      "outputs": [
        {
          "output_type": "execute_result",
          "data": {
            "text/plain": [
              "[['barber', 'person'],\n",
              " ['barber', 'good', 'person'],\n",
              " ['barber', 'huge', 'person'],\n",
              " ['knew', 'secret'],\n",
              " ['secret', 'kept', 'huge', 'secret'],\n",
              " ['huge', 'secret'],\n",
              " ['barber', 'kept', 'word'],\n",
              " ['barber', 'kept', 'word'],\n",
              " ['barber', 'kept', 'secret'],\n",
              " ['keeping', 'keeping', 'huge', 'secret', 'driving', 'barber', 'crazy'],\n",
              " ['barber', 'went', 'huge', 'mountain']]"
            ]
          },
          "metadata": {
            "tags": []
          },
          "execution_count": 201
        }
      ]
    },
    {
      "cell_type": "code",
      "metadata": {
        "colab": {
          "base_uri": "https://localhost:8080/"
        },
        "id": "YuJwO9WpERHg",
        "outputId": "502bd410-1b2f-4372-8a80-f56b6fe43f49"
      },
      "source": [
        "encoded = [ ]\n",
        "for s in sentences:\n",
        "  temp = [ ]\n",
        "  for w in s:\n",
        "    try:\n",
        "      temp.append(word2idx[w])\n",
        "    except KeyError:\n",
        "      temp.append(word2idx['oov'])\n",
        "  encoded.append(temp)\n",
        "\n",
        "encoded"
      ],
      "execution_count": null,
      "outputs": [
        {
          "output_type": "execute_result",
          "data": {
            "text/plain": [
              "[[1, 5],\n",
              " [1, 6, 5],\n",
              " [1, 3, 5],\n",
              " [6, 2],\n",
              " [2, 4, 3, 2],\n",
              " [3, 2],\n",
              " [1, 4, 6],\n",
              " [1, 4, 6],\n",
              " [1, 4, 2],\n",
              " [6, 6, 3, 2, 6, 1, 6],\n",
              " [1, 6, 3, 6]]"
            ]
          },
          "metadata": {
            "tags": []
          },
          "execution_count": 203
        }
      ]
    },
    {
      "cell_type": "code",
      "metadata": {
        "id": "wmJJNt7LEpnf"
      },
      "source": [
        ""
      ],
      "execution_count": null,
      "outputs": []
    }
  ]
}